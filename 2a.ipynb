{
  "cells": [
    {
      "cell_type": "markdown",
      "metadata": {
        "id": "8W7MYyHXjQbx"
      },
      "source": [
        "Dataset and DataLoader"
      ]
    },
    {
      "cell_type": "code",
      "source": [
        "from google.colab import drive\n",
        "drive.mount('/content/drive')"
      ],
      "metadata": {
        "colab": {
          "base_uri": "https://localhost:8080/"
        },
        "id": "6LE5D4ibkoFl",
        "outputId": "fdc2e5bd-e842-4fe6-85f8-12313e79ac51"
      },
      "execution_count": 1,
      "outputs": [
        {
          "output_type": "stream",
          "name": "stdout",
          "text": [
            "Mounted at /content/drive\n"
          ]
        }
      ]
    },
    {
      "cell_type": "code",
      "execution_count": 2,
      "metadata": {
        "id": "bQLhRcADjQb2"
      },
      "outputs": [],
      "source": [
        "import os\n",
        "from PIL import Image\n",
        "import numpy as np\n",
        "import torch\n",
        "from PIL import Image\n",
        "from torch.utils.data import Dataset\n",
        "# TODO: implement here your custom dataset class for Cityscapes\n",
        "\n",
        "\n",
        "class CityscapesDataset(Dataset):\n",
        "    def __init__(self, root_dir, split='train', transform=None):\n",
        "        self.root_dir = root_dir\n",
        "        self.split = split\n",
        "        self.transform = transform\n",
        "        self.image_dir = os.path.join(self.root_dir, 'images', self.split)\n",
        "        self.label_dir = os.path.join(self.root_dir, 'gtFine', self.split)\n",
        "        self.image_folders = os.listdir(self.image_dir)\n",
        "        self.images = []\n",
        "\n",
        "        for folder in self.image_folders:\n",
        "            images_in_folder = os.listdir(os.path.join(self.image_dir, folder))\n",
        "            self.images.extend(images_in_folder)\n",
        "\n",
        "    def __len__(self):\n",
        "        return len(self.images)\n",
        "\n",
        "    def __getitem__(self, idx):\n",
        "        folder_name = self.images[idx].split('_')[0]\n",
        "        img_name = os.path.join(self.image_dir, folder_name, self.images[idx])\n",
        "        label_name = os.path.join(self.label_dir, folder_name, self.images[idx].replace('leftImg8bit', 'gtFine_labelTrainIds'))\n",
        "\n",
        "        image = np.array(Image.open(img_name).convert('RGB'))[::2,::2]\n",
        "        # image = torch.tensor(image)\n",
        "        label = np.array(Image.open(label_name))[::2,::2]\n",
        "        label = torch.tensor(label).long()\n",
        "        # This code need to updated.\n",
        "        if self.transform:\n",
        "            image = self.transform(image)\n",
        "\n",
        "        return image, label"
      ]
    },
    {
      "cell_type": "code",
      "execution_count": 3,
      "metadata": {
        "id": "jEKpGBg5jQb5"
      },
      "outputs": [],
      "source": [
        "import torchvision.transforms as transforms\n",
        "transform = transforms.Compose([\n",
        "    transforms.ToTensor(),\n",
        "    transforms.Normalize(mean=[0.485, 0.456, 0.406], std=[0.229, 0.224, 0.225]),\n",
        "])"
      ]
    },
    {
      "cell_type": "code",
      "execution_count": 4,
      "metadata": {
        "id": "hJdnjm9ejQb6"
      },
      "outputs": [],
      "source": [
        "train_dataset = CityscapesDataset('/content/drive/MyDrive/MLDL_project/MLDL2024_project1/datasets/Cityspaces', transform=transform, split='train')\n",
        "val_dataset = CityscapesDataset('/content/drive/MyDrive/MLDL_project/MLDL2024_project1/datasets/Cityspaces', transform=transform, split='val')"
      ]
    },
    {
      "cell_type": "code",
      "execution_count": 5,
      "metadata": {
        "id": "qRib7A3cjQb6"
      },
      "outputs": [],
      "source": [
        "# Create a DataLoader\n",
        "from torch.utils.data import DataLoader\n",
        "dataloader_train = DataLoader(train_dataset, batch_size=2, shuffle=True)\n",
        "dataloader_val = DataLoader(val_dataset, batch_size=2, shuffle=False)"
      ]
    },
    {
      "cell_type": "code",
      "execution_count": 6,
      "metadata": {
        "colab": {
          "base_uri": "https://localhost:8080/"
        },
        "id": "oOAvJ_1AjQb7",
        "outputId": "af15640e-20f8-4c25-a334-c15547a97e96"
      },
      "outputs": [
        {
          "output_type": "stream",
          "name": "stdout",
          "text": [
            "Number of training samples: 1572\n",
            "Number of validation samples: 500\n"
          ]
        }
      ],
      "source": [
        "num_train_samples = len(train_dataset)\n",
        "num_val_samples = len(val_dataset)\n",
        "\n",
        "print(f'Number of training samples: {num_train_samples}')\n",
        "print(f'Number of validation samples: {num_val_samples}')"
      ]
    },
    {
      "cell_type": "markdown",
      "metadata": {
        "id": "zJfIPq_ajQb8"
      },
      "source": [
        "Build model"
      ]
    },
    {
      "cell_type": "code",
      "execution_count": 7,
      "metadata": {
        "id": "7fquv-ETjQb8"
      },
      "outputs": [],
      "source": [
        "import torch\n",
        "import torch.nn as nn\n",
        "\n",
        "affine_par = True\n",
        "\n",
        "\n",
        "class Bottleneck(nn.Module):\n",
        "    expansion = 4\n",
        "\n",
        "    def __init__(self, inplanes, planes, stride=1, dilation=1, downsample=None):\n",
        "        super(Bottleneck, self).__init__()\n",
        "        # change\n",
        "        self.conv1 = nn.Conv2d(inplanes, planes, kernel_size=1, stride=stride, bias=False)\n",
        "        self.bn1 = nn.BatchNorm2d(planes, affine=affine_par)\n",
        "        for i in self.bn1.parameters():\n",
        "            i.requires_grad = False\n",
        "        padding = dilation\n",
        "        # change\n",
        "        self.conv2 = nn.Conv2d(planes, planes, kernel_size=3, stride=1,\n",
        "                               padding=padding, bias=False, dilation=dilation)\n",
        "        self.bn2 = nn.BatchNorm2d(planes, affine=affine_par)\n",
        "        for i in self.bn2.parameters():\n",
        "            i.requires_grad = False\n",
        "        self.conv3 = nn.Conv2d(planes, planes * 4, kernel_size=1, bias=False)\n",
        "        self.bn3 = nn.BatchNorm2d(planes * 4, affine=affine_par)\n",
        "        for i in self.bn3.parameters():\n",
        "            i.requires_grad = False\n",
        "        self.relu = nn.ReLU(inplace=True)\n",
        "        self.downsample = downsample\n",
        "        self.stride = stride\n",
        "\n",
        "    def forward(self, x):\n",
        "        residual = x\n",
        "        out = self.conv1(x)\n",
        "        out = self.bn1(out)\n",
        "        out = self.relu(out)\n",
        "        out = self.conv2(out)\n",
        "        out = self.bn2(out)\n",
        "        out = self.relu(out)\n",
        "        out = self.conv3(out)\n",
        "        out = self.bn3(out)\n",
        "        if self.downsample is not None:\n",
        "            residual = self.downsample(x)\n",
        "        out += residual\n",
        "        out = self.relu(out)\n",
        "\n",
        "        return out\n",
        "\n",
        "\n",
        "class ClassifierModule(nn.Module):\n",
        "    def __init__(self, inplanes, dilation_series, padding_series, num_classes):\n",
        "        super(ClassifierModule, self).__init__()\n",
        "        self.conv2d_list = nn.ModuleList()\n",
        "        for dilation, padding in zip(dilation_series, padding_series):\n",
        "            self.conv2d_list.append(\n",
        "                nn.Conv2d(inplanes, num_classes, kernel_size=3, stride=1, padding=padding,\n",
        "                          dilation=dilation, bias=True))\n",
        "\n",
        "        for m in self.conv2d_list:\n",
        "            m.weight.data.normal_(0, 0.01)\n",
        "\n",
        "    def forward(self, x):\n",
        "        out = self.conv2d_list[0](x)\n",
        "        for i in range(len(self.conv2d_list) - 1):\n",
        "            out += self.conv2d_list[i + 1](x)\n",
        "        return out\n",
        "\n",
        "\n",
        "class ResNetMulti(nn.Module):\n",
        "    def __init__(self, block, layers, num_classes):\n",
        "        self.inplanes = 64\n",
        "        super(ResNetMulti, self).__init__()\n",
        "        self.conv1 = nn.Conv2d(3, 64, kernel_size=7, stride=2, padding=3,\n",
        "                               bias=False)\n",
        "        self.bn1 = nn.BatchNorm2d(64, affine=affine_par)\n",
        "        for i in self.bn1.parameters():\n",
        "            i.requires_grad = False\n",
        "        self.relu = nn.ReLU(inplace=True)\n",
        "        self.maxpool = nn.MaxPool2d(kernel_size=3, stride=2, padding=1, ceil_mode=True)  # change\n",
        "        self.layer1 = self._make_layer(block, 64, layers[0])\n",
        "        self.layer2 = self._make_layer(block, 128, layers[1], stride=2)\n",
        "        self.layer3 = self._make_layer(block, 256, layers[2], stride=1, dilation=2)\n",
        "        self.layer4 = self._make_layer(block, 512, layers[3], stride=1, dilation=4)\n",
        "        self.layer6 = ClassifierModule(2048, [6, 12, 18, 24], [6, 12, 18, 24], num_classes)\n",
        "        for m in self.modules():\n",
        "            if isinstance(m, nn.Conv2d):\n",
        "                m.weight.data.normal_(0, 0.01)\n",
        "            elif isinstance(m, nn.BatchNorm2d):\n",
        "                m.weight.data.fill_(1)\n",
        "                m.bias.data.zero_()\n",
        "\n",
        "    def _make_layer(self, block, planes, blocks, stride=1, dilation=1):\n",
        "        downsample = None\n",
        "        if (stride != 1\n",
        "                or self.inplanes != planes * block.expansion\n",
        "                or dilation == 2\n",
        "                or dilation == 4):\n",
        "            downsample = nn.Sequential(\n",
        "                nn.Conv2d(self.inplanes, planes * block.expansion,\n",
        "                          kernel_size=1, stride=stride, bias=False),\n",
        "                nn.BatchNorm2d(planes * block.expansion, affine=affine_par))\n",
        "        for i in downsample._modules['1'].parameters():\n",
        "            i.requires_grad = False\n",
        "        layers = []\n",
        "        layers.append(\n",
        "            block(self.inplanes, planes, stride, dilation=dilation, downsample=downsample))\n",
        "        self.inplanes = planes * block.expansion\n",
        "        for i in range(1, blocks):\n",
        "            layers.append(block(self.inplanes, planes, dilation=dilation))\n",
        "\n",
        "        return nn.Sequential(*layers)\n",
        "\n",
        "    def forward(self, x):\n",
        "        _, _, H, W = x.size()\n",
        "\n",
        "        x = self.conv1(x)\n",
        "        x = self.bn1(x)\n",
        "        x = self.relu(x)\n",
        "        x = self.maxpool(x)\n",
        "        x = self.layer1(x)\n",
        "        x = self.layer2(x)\n",
        "        x = self.layer3(x)\n",
        "        x = self.layer4(x)\n",
        "        x = self.layer6(x)\n",
        "\n",
        "        x = torch.nn.functional.interpolate(x, size=(H, W), mode='bilinear')\n",
        "\n",
        "        # used for auxiliary loss function\n",
        "        # if self.training == True:\n",
        "        #     return x, None, None\n",
        "\n",
        "        return x\n",
        "\n",
        "    def get_1x_lr_params_no_scale(self):\n",
        "        \"\"\"\n",
        "        This generator returns all the parameters of the net except for\n",
        "        the last classification layer. Note that for each batchnorm layer,\n",
        "        requires_grad is set to False in deeplab_resnet.py, therefore this function does not return\n",
        "        any batchnorm parameter\n",
        "        \"\"\"\n",
        "        b = []\n",
        "\n",
        "        b.append(self.conv1)\n",
        "        b.append(self.bn1)\n",
        "        b.append(self.layer1)\n",
        "        b.append(self.layer2)\n",
        "        b.append(self.layer3)\n",
        "        b.append(self.layer4)\n",
        "\n",
        "        for i in range(len(b)):\n",
        "            for j in b[i].modules():\n",
        "                jj = 0\n",
        "                for k in j.parameters():\n",
        "                    jj += 1\n",
        "                    if k.requires_grad:\n",
        "                        yield k\n",
        "\n",
        "    def get_10x_lr_params(self):\n",
        "        \"\"\"\n",
        "        This generator returns all the parameters for the last layer of the net,\n",
        "        which does the classification of pixel into classes\n",
        "        \"\"\"\n",
        "        b = []\n",
        "        if self.multi_level:\n",
        "            b.append(self.layer5.parameters())\n",
        "        b.append(self.layer6.parameters())\n",
        "\n",
        "        for j in range(len(b)):\n",
        "            for i in b[j]:\n",
        "                yield i\n",
        "\n",
        "    def optim_parameters(self, lr):\n",
        "        return [{'params': self.get_1x_lr_params_no_scale(), 'lr': lr},\n",
        "                {'params': self.get_10x_lr_params(), 'lr': 10 * lr}]\n",
        "\n",
        "\n",
        "def get_deeplab_v2(num_classes=19, pretrain=True, pretrain_model_path='/content/drive/MyDrive/MLDL_project/MLDL2024_project1/DeepLab_resnet_pretrained_imagenet.pth'):\n",
        "    model = ResNetMulti(Bottleneck, [3, 4, 23, 3], num_classes)\n",
        "\n",
        "    # Pretraining loading\n",
        "    if pretrain:\n",
        "        print('Deeplab pretraining loading...')\n",
        "        saved_state_dict = torch.load(pretrain_model_path)\n",
        "\n",
        "        new_params = model.state_dict().copy()\n",
        "        for i in saved_state_dict:\n",
        "            i_parts = i.split('.')\n",
        "            new_params['.'.join(i_parts[1:])] = saved_state_dict[i]\n",
        "        model.load_state_dict(new_params, strict=False)\n",
        "\n",
        "    return model"
      ]
    },
    {
      "cell_type": "markdown",
      "source": [
        "Trainning and validation process"
      ],
      "metadata": {
        "id": "o6hJEELV5dy6"
      }
    },
    {
      "cell_type": "code",
      "source": [
        "def fast_hist(a, b, n):\n",
        "    '''\n",
        "    a and b are ground truth and predict respectively\n",
        "    n is the number of classes\n",
        "    '''\n",
        "    k = (a >= 0) & (a < n)\n",
        "    return np.bincount(n * a[k].astype(int) + b[k], minlength=n ** 2).reshape(n, n)\n",
        "\n",
        "\n",
        "def per_class_iou(hist):\n",
        "    epsilon = 1e-5\n",
        "    return (np.diag(hist)) / (hist.sum(1) + hist.sum(0) - np.diag(hist) + epsilon)"
      ],
      "metadata": {
        "id": "xEsoNWXWNtpO"
      },
      "execution_count": 8,
      "outputs": []
    },
    {
      "cell_type": "code",
      "source": [
        "def total_hist(outputs, labels, num_classes):\n",
        "    hist = 0\n",
        "    for i in range(len(outputs)):\n",
        "        output, label = outputs[i].cpu().detach().numpy().reshape(-1,), labels[i].cpu().detach().numpy().reshape(-1,)\n",
        "        hist += fast_hist(label, output, num_classes)\n",
        "    return hist"
      ],
      "metadata": {
        "id": "S5R7148cNt94"
      },
      "execution_count": 9,
      "outputs": []
    },
    {
      "cell_type": "code",
      "source": [
        "def train(epoch, model, dataloader_train, criterion, optimizer):\n",
        "  model.train()\n",
        "  running_loss = 0.0\n",
        "  hist = 0\n",
        "  for i, (inputs, labels) in enumerate(dataloader_train, 0):\n",
        "      inputs, labels = inputs.cuda(), labels.cuda()\n",
        "      optimizer.zero_grad()\n",
        "\n",
        "      outputs = model(inputs)\n",
        "      loss = criterion(outputs, labels)\n",
        "      loss.backward()\n",
        "      optimizer.step()\n",
        "\n",
        "      running_loss += loss.item()\n",
        "      outputs = torch.argmax(outputs, dim=1)\n",
        "      hist += total_hist(outputs, labels, 19)\n",
        "  avg_loss = running_loss / len(dataloader_train)\n",
        "  miou = np.mean(per_class_iou(hist))\n",
        "  print(f\"Epoch{epoch+1} Avg. Training Loss: {avg_loss}, mIoU: {miou}\")\n",
        "  return avg_loss, miou"
      ],
      "metadata": {
        "id": "78G0dq7skjjz"
      },
      "execution_count": 10,
      "outputs": []
    },
    {
      "cell_type": "code",
      "source": [
        "def validation(model, dataloader_val, criterion):\n",
        "  model.eval()\n",
        "  val_loss = 0.0\n",
        "  hist = 0\n",
        "\n",
        "  with torch.no_grad():\n",
        "      for i, (inputs, labels) in enumerate(dataloader_val, 0):\n",
        "          inputs, labels = inputs.cuda(), labels.cuda()\n",
        "          outputs = model(inputs)\n",
        "          loss = criterion(outputs, labels)\n",
        "          val_loss += loss.item()\n",
        "          outputs = torch.argmax(outputs, dim=1)\n",
        "          hist += total_hist(outputs, labels, 19)\n",
        "\n",
        "  avg_val_loss = val_loss / len(dataloader_val)\n",
        "  miou = np.mean(per_class_iou(hist))\n",
        "  print(f\"Avg. Validation Loss: {avg_val_loss}, mIoU: {miou}\")\n",
        "  return avg_val_loss, miou"
      ],
      "metadata": {
        "id": "9jyNyK6qlIF4"
      },
      "execution_count": 13,
      "outputs": []
    },
    {
      "cell_type": "code",
      "source": [
        "import torch.optim as optim\n",
        "\n",
        "model = get_deeplab_v2().cuda()\n",
        "criterion = nn.CrossEntropyLoss(ignore_index=255)\n",
        "optimizer = optim.Adam(model.parameters(), lr=0.0001)  #Since our batch size is only 2, so we need to choose a small learning rate\n",
        "\n",
        "# training model\n",
        "epochs = 5\n",
        "\n",
        "miou_train_list = []\n",
        "miou_val_list = []\n",
        "models = []\n",
        "for epoch in range(epochs):\n",
        "    _, miou_train = train(epoch, model, dataloader_train, criterion, optimizer)\n",
        "    _, miou_val = validation(model, dataloader_val, criterion)\n",
        "    miou_train_list.append(miou_train)\n",
        "    miou_val_list.append(miou_val)\n",
        "    models.append(model.state_dict())\n",
        "\n",
        "\n",
        "print('Finished Training')"
      ],
      "metadata": {
        "colab": {
          "base_uri": "https://localhost:8080/"
        },
        "id": "KnWIBshs3vX7",
        "outputId": "202a3186-d126-437a-d00f-94bba57bdea1"
      },
      "execution_count": 14,
      "outputs": [
        {
          "output_type": "stream",
          "name": "stdout",
          "text": [
            "Deeplab pretraining loading...\n",
            "Epoch1 Avg. Training Loss: 0.41441423835531443, mIoU: 0.41958550891551444\n",
            "Avg. Validation Loss: 0.29614314791560176, mIoU: 0.5018329252466791\n",
            "Epoch2 Avg. Training Loss: 0.21189815613604684, mIoU: 0.5994390411592453\n",
            "Avg. Validation Loss: 0.2516351816058159, mIoU: 0.5478789980411563\n",
            "Epoch3 Avg. Training Loss: 0.16791735632634194, mIoU: 0.6741038473386528\n",
            "Avg. Validation Loss: 0.2813507997691631, mIoU: 0.536058801732937\n",
            "Epoch4 Avg. Training Loss: 0.15135646700081784, mIoU: 0.7211135555220421\n",
            "Avg. Validation Loss: 0.2502238897383213, mIoU: 0.5489393351599943\n",
            "Epoch5 Avg. Training Loss: 0.12860143770470875, mIoU: 0.7538145034051492\n",
            "Avg. Validation Loss: 0.2335504952967167, mIoU: 0.5847067989526772\n",
            "Finished Training\n"
          ]
        }
      ]
    },
    {
      "cell_type": "code",
      "source": [
        "# save best model\n",
        "import os\n",
        "DIR = '/content/drive/MyDrive/MLDL_project/MLDL2024_project1/models/deeplabv2/trained_models/'\n",
        "if not os.path.exists(DIR):\n",
        "    os.makedirs(DIR)\n",
        "PATH = DIR + f'deepLabV2_epoch{epochs}.pth'\n",
        "\n",
        "# delete old model files\n",
        "if os.path.exists(PATH):\n",
        "    os.remove(PATH)\n",
        "\n",
        "model = get_deeplab_v2().cuda()\n",
        "model.load_state_dict(models[np.argmax(np.array(miou_val_list))])\n",
        "torch.save(model.state_dict(), PATH)"
      ],
      "metadata": {
        "colab": {
          "base_uri": "https://localhost:8080/"
        },
        "id": "ktodfHCQt8lm",
        "outputId": "9d540b75-0e83-46bd-cdd1-49bc6aabd747"
      },
      "execution_count": 15,
      "outputs": [
        {
          "output_type": "stream",
          "name": "stdout",
          "text": [
            "Deeplab pretraining loading...\n"
          ]
        }
      ]
    },
    {
      "cell_type": "code",
      "source": [
        "# visualization and find best model\n",
        "import matplotlib.pyplot as plt\n",
        "\n",
        "epochs_list = np.arange(1, epochs+1)\n",
        "plt.figure(figsize=(10, 6))\n",
        "\n",
        "plt.plot(epochs_list, miou_train_list, marker='o', linestyle='-', color='r', label='Training mIOU')\n",
        "plt.plot(epochs_list, miou_val_list, marker='o', linestyle='--', color='b', label='Val mIOU')\n",
        "\n",
        "plt.title('Training and validation mIOU over Epochs')\n",
        "plt.xlabel('Epochs')\n",
        "plt.ylabel('mIOU')\n",
        "\n",
        "plt.legend()\n",
        "plt.grid(True)\n",
        "plt.show()"
      ],
      "metadata": {
        "id": "mYjcbuGb7DCu",
        "colab": {
          "base_uri": "https://localhost:8080/",
          "height": 564
        },
        "outputId": "ce4d76a9-2565-400c-c267-a246352efaa5"
      },
      "execution_count": 16,
      "outputs": [
        {
          "output_type": "display_data",
          "data": {
            "text/plain": [
              "<Figure size 1000x600 with 1 Axes>"
            ],
            "image/png": "[encoded data removed]"
          },
          "metadata": {}
        }
      ]
    },
    {
      "cell_type": "markdown",
      "source": [
        "Flops"
      ],
      "metadata": {
        "id": "1qHDiFfE2tx2"
      }
    },
    {
      "cell_type": "code",
      "source": [
        "!pip install -U fvcore"
      ],
      "metadata": {
        "colab": {
          "base_uri": "https://localhost:8080/"
        },
        "id": "RVmFKcxm2-K7",
        "outputId": "f8f01347-468a-4f18-bbff-569f3d565bfa"
      },
      "execution_count": 17,
      "outputs": [
        {
          "output_type": "stream",
          "name": "stdout",
          "text": [
            "Collecting fvcore\n",
            "  Downloading fvcore-0.1.5.post20221221.tar.gz (50 kB)\n",
            "\u001b[2K     \u001b[90m━━━━━━━━━━━━━━━━━━━━━━━━━━━━━━━━━━━━━━━━\u001b[0m \u001b[32m50.2/50.2 kB\u001b[0m \u001b[31m2.3 MB/s\u001b[0m eta \u001b[36m0:00:00\u001b[0m\n",
            "\u001b[?25h  Preparing metadata (setup.py) ... \u001b[?25l\u001b[?25hdone\n",
            "Requirement already satisfied: numpy in /usr/local/lib/python3.10/dist-packages (from fvcore) (1.25.2)\n",
            "Collecting yacs>=0.1.6 (from fvcore)\n",
            "  Downloading yacs-0.1.8-py3-none-any.whl (14 kB)\n",
            "Requirement already satisfied: pyyaml>=5.1 in /usr/local/lib/python3.10/dist-packages (from fvcore) (6.0.1)\n",
            "Requirement already satisfied: tqdm in /usr/local/lib/python3.10/dist-packages (from fvcore) (4.66.4)\n",
            "Requirement already satisfied: termcolor>=1.1 in /usr/local/lib/python3.10/dist-packages (from fvcore) (2.4.0)\n",
            "Requirement already satisfied: Pillow in /usr/local/lib/python3.10/dist-packages (from fvcore) (9.4.0)\n",
            "Requirement already satisfied: tabulate in /usr/local/lib/python3.10/dist-packages (from fvcore) (0.9.0)\n",
            "Collecting iopath>=0.1.7 (from fvcore)\n",
            "  Downloading iopath-0.1.10.tar.gz (42 kB)\n",
            "\u001b[2K     \u001b[90m━━━━━━━━━━━━━━━━━━━━━━━━━━━━━━━━━━━━━━━━\u001b[0m \u001b[32m42.2/42.2 kB\u001b[0m \u001b[31m4.4 MB/s\u001b[0m eta \u001b[36m0:00:00\u001b[0m\n",
            "\u001b[?25h  Preparing metadata (setup.py) ... \u001b[?25l\u001b[?25hdone\n",
            "Requirement already satisfied: typing_extensions in /usr/local/lib/python3.10/dist-packages (from iopath>=0.1.7->fvcore) (4.11.0)\n",
            "Collecting portalocker (from iopath>=0.1.7->fvcore)\n",
            "  Downloading portalocker-2.8.2-py3-none-any.whl (17 kB)\n",
            "Building wheels for collected packages: fvcore, iopath\n",
            "  Building wheel for fvcore (setup.py) ... \u001b[?25l\u001b[?25hdone\n",
            "  Created wheel for fvcore: filename=fvcore-0.1.5.post20221221-py3-none-any.whl size=61400 sha256=1c63eb996eb555b1dd7394638d0525bbebfbf412e804981ae2369c56de2341f9\n",
            "  Stored in directory: /root/.cache/pip/wheels/01/c0/af/77c1cf53a1be9e42a52b48e5af2169d40ec2e89f7362489dd0\n",
            "  Building wheel for iopath (setup.py) ... \u001b[?25l\u001b[?25hdone\n",
            "  Created wheel for iopath: filename=iopath-0.1.10-py3-none-any.whl size=31532 sha256=69a04a78b5917d833aec5e1f5a68e642f980d2531ffdffba695535acc51f1785\n",
            "  Stored in directory: /root/.cache/pip/wheels/9a/a3/b6/ac0fcd1b4ed5cfeb3db92e6a0e476cfd48ed0df92b91080c1d\n",
            "Successfully built fvcore iopath\n",
            "Installing collected packages: yacs, portalocker, iopath, fvcore\n",
            "Successfully installed fvcore-0.1.5.post20221221 iopath-0.1.10 portalocker-2.8.2 yacs-0.1.8\n"
          ]
        }
      ]
    },
    {
      "cell_type": "code",
      "source": [
        "from fvcore.nn import FlopCountAnalysis, flop_count_table\n",
        "\n",
        "# -----------------------------\n",
        "# Initizialize your model here\n",
        "# -----------------------------\n",
        "\n",
        "height = train_dataset[0][0].shape[0]\n",
        "width = train_dataset[0][0].shape[1]\n",
        "image = torch.zeros((1, 3, height, width)).cuda()\n",
        "\n",
        "flops = FlopCountAnalysis(model, image)\n",
        "print(flop_count_table(flops))"
      ],
      "metadata": {
        "colab": {
          "base_uri": "https://localhost:8080/"
        },
        "id": "za6HIEhd2uwc",
        "outputId": "7cc2be94-3cd5-4690-eaa9-e5ac598f62b5"
      },
      "execution_count": 18,
      "outputs": [
        {
          "output_type": "stream",
          "name": "stdout",
          "text": [
            "| module                         | #parameters or shape   | #flops     |\n",
            "|:-------------------------------|:-----------------------|:-----------|\n",
            "| model                          | 43.901M                | 2.911G     |\n",
            "|  conv1                         |  9.408K                |  4.817M    |\n",
            "|   conv1.weight                 |   (64, 3, 7, 7)        |            |\n",
            "|  bn1                           |  0.128K                |  0.164M    |\n",
            "|   bn1.weight                   |   (64,)                |            |\n",
            "|   bn1.bias                     |   (64,)                |            |\n",
            "|  layer1                        |  0.216M                |  56.768M   |\n",
            "|   layer1.0                     |   75.008K              |   19.847M  |\n",
            "|    layer1.0.conv1              |    4.096K              |    1.057M  |\n",
            "|    layer1.0.bn1                |    0.128K              |    82.56K  |\n",
            "|    layer1.0.conv2              |    36.864K             |    9.511M  |\n",
            "|    layer1.0.bn2                |    0.128K              |    82.56K  |\n",
            "|    layer1.0.conv3              |    16.384K             |    4.227M  |\n",
            "|    layer1.0.bn3                |    0.512K              |    0.33M   |\n",
            "|    layer1.0.downsample         |    16.896K             |    4.557M  |\n",
            "|   layer1.1                     |   70.4K                |   18.46M   |\n",
            "|    layer1.1.conv1              |    16.384K             |    4.227M  |\n",
            "|    layer1.1.bn1                |    0.128K              |    82.56K  |\n",
            "|    layer1.1.conv2              |    36.864K             |    9.511M  |\n",
            "|    layer1.1.bn2                |    0.128K              |    82.56K  |\n",
            "|    layer1.1.conv3              |    16.384K             |    4.227M  |\n",
            "|    layer1.1.bn3                |    0.512K              |    0.33M   |\n",
            "|   layer1.2                     |   70.4K                |   18.46M   |\n",
            "|    layer1.2.conv1              |    16.384K             |    4.227M  |\n",
            "|    layer1.2.bn1                |    0.128K              |    82.56K  |\n",
            "|    layer1.2.conv2              |    36.864K             |    9.511M  |\n",
            "|    layer1.2.bn2                |    0.128K              |    82.56K  |\n",
            "|    layer1.2.conv3              |    16.384K             |    4.227M  |\n",
            "|    layer1.2.bn3                |    0.512K              |    0.33M   |\n",
            "|  layer2                        |  1.22M                 |  79.972M   |\n",
            "|   layer2.0                     |   0.379M               |   24.91M   |\n",
            "|    layer2.0.conv1              |    32.768K             |    2.13M   |\n",
            "|    layer2.0.bn1                |    0.256K              |    41.6K   |\n",
            "|    layer2.0.conv2              |    0.147M              |    9.585M  |\n",
            "|    layer2.0.bn2                |    0.256K              |    41.6K   |\n",
            "|    layer2.0.conv3              |    65.536K             |    4.26M   |\n",
            "|    layer2.0.bn3                |    1.024K              |    0.166M  |\n",
            "|    layer2.0.downsample         |    0.132M              |    8.686M  |\n",
            "|   layer2.1                     |   0.28M                |   18.354M  |\n",
            "|    layer2.1.conv1              |    65.536K             |    4.26M   |\n",
            "|    layer2.1.bn1                |    0.256K              |    41.6K   |\n",
            "|    layer2.1.conv2              |    0.147M              |    9.585M  |\n",
            "|    layer2.1.bn2                |    0.256K              |    41.6K   |\n",
            "|    layer2.1.conv3              |    65.536K             |    4.26M   |\n",
            "|    layer2.1.bn3                |    1.024K              |    0.166M  |\n",
            "|   layer2.2                     |   0.28M                |   18.354M  |\n",
            "|    layer2.2.conv1              |    65.536K             |    4.26M   |\n",
            "|    layer2.2.bn1                |    0.256K              |    41.6K   |\n",
            "|    layer2.2.conv2              |    0.147M              |    9.585M  |\n",
            "|    layer2.2.bn2                |    0.256K              |    41.6K   |\n",
            "|    layer2.2.conv3              |    65.536K             |    4.26M   |\n",
            "|    layer2.2.bn3                |    1.024K              |    0.166M  |\n",
            "|   layer2.3                     |   0.28M                |   18.354M  |\n",
            "|    layer2.3.conv1              |    65.536K             |    4.26M   |\n",
            "|    layer2.3.bn1                |    0.256K              |    41.6K   |\n",
            "|    layer2.3.conv2              |    0.147M              |    9.585M  |\n",
            "|    layer2.3.bn2                |    0.256K              |    41.6K   |\n",
            "|    layer2.3.conv3              |    65.536K             |    4.26M   |\n",
            "|    layer2.3.bn3                |    1.024K              |    0.166M  |\n",
            "|  layer3                        |  26.09M                |  1.703G    |\n",
            "|   layer3.0                     |   1.512M               |   98.808M  |\n",
            "|    layer3.0.conv1              |    0.131M              |    8.52M   |\n",
            "|    layer3.0.bn1                |    0.512K              |    83.2K   |\n",
            "|    layer3.0.conv2              |    0.59M               |    38.339M |\n",
            "|    layer3.0.bn2                |    0.512K              |    83.2K   |\n",
            "|    layer3.0.conv3              |    0.262M              |    17.039M |\n",
            "|    layer3.0.bn3                |    2.048K              |    0.333M  |\n",
            "|    layer3.0.downsample         |    0.526M              |    34.412M |\n",
            "|   layer3.1                     |   1.117M               |   72.916M  |\n",
            "|    layer3.1.conv1              |    0.262M              |    17.039M |\n",
            "|    layer3.1.bn1                |    0.512K              |    83.2K   |\n",
            "|    layer3.1.conv2              |    0.59M               |    38.339M |\n",
            "|    layer3.1.bn2                |    0.512K              |    83.2K   |\n",
            "|    layer3.1.conv3              |    0.262M              |    17.039M |\n",
            "|    layer3.1.bn3                |    2.048K              |    0.333M  |\n",
            "|   layer3.2                     |   1.117M               |   72.916M  |\n",
            "|    layer3.2.conv1              |    0.262M              |    17.039M |\n",
            "|    layer3.2.bn1                |    0.512K              |    83.2K   |\n",
            "|    layer3.2.conv2              |    0.59M               |    38.339M |\n",
            "|    layer3.2.bn2                |    0.512K              |    83.2K   |\n",
            "|    layer3.2.conv3              |    0.262M              |    17.039M |\n",
            "|    layer3.2.bn3                |    2.048K              |    0.333M  |\n",
            "|   layer3.3                     |   1.117M               |   72.916M  |\n",
            "|    layer3.3.conv1              |    0.262M              |    17.039M |\n",
            "|    layer3.3.bn1                |    0.512K              |    83.2K   |\n",
            "|    layer3.3.conv2              |    0.59M               |    38.339M |\n",
            "|    layer3.3.bn2                |    0.512K              |    83.2K   |\n",
            "|    layer3.3.conv3              |    0.262M              |    17.039M |\n",
            "|    layer3.3.bn3                |    2.048K              |    0.333M  |\n",
            "|   layer3.4                     |   1.117M               |   72.916M  |\n",
            "|    layer3.4.conv1              |    0.262M              |    17.039M |\n",
            "|    layer3.4.bn1                |    0.512K              |    83.2K   |\n",
            "|    layer3.4.conv2              |    0.59M               |    38.339M |\n",
            "|    layer3.4.bn2                |    0.512K              |    83.2K   |\n",
            "|    layer3.4.conv3              |    0.262M              |    17.039M |\n",
            "|    layer3.4.bn3                |    2.048K              |    0.333M  |\n",
            "|   layer3.5                     |   1.117M               |   72.916M  |\n",
            "|    layer3.5.conv1              |    0.262M              |    17.039M |\n",
            "|    layer3.5.bn1                |    0.512K              |    83.2K   |\n",
            "|    layer3.5.conv2              |    0.59M               |    38.339M |\n",
            "|    layer3.5.bn2                |    0.512K              |    83.2K   |\n",
            "|    layer3.5.conv3              |    0.262M              |    17.039M |\n",
            "|    layer3.5.bn3                |    2.048K              |    0.333M  |\n",
            "|   layer3.6                     |   1.117M               |   72.916M  |\n",
            "|    layer3.6.conv1              |    0.262M              |    17.039M |\n",
            "|    layer3.6.bn1                |    0.512K              |    83.2K   |\n",
            "|    layer3.6.conv2              |    0.59M               |    38.339M |\n",
            "|    layer3.6.bn2                |    0.512K              |    83.2K   |\n",
            "|    layer3.6.conv3              |    0.262M              |    17.039M |\n",
            "|    layer3.6.bn3                |    2.048K              |    0.333M  |\n",
            "|   layer3.7                     |   1.117M               |   72.916M  |\n",
            "|    layer3.7.conv1              |    0.262M              |    17.039M |\n",
            "|    layer3.7.bn1                |    0.512K              |    83.2K   |\n",
            "|    layer3.7.conv2              |    0.59M               |    38.339M |\n",
            "|    layer3.7.bn2                |    0.512K              |    83.2K   |\n",
            "|    layer3.7.conv3              |    0.262M              |    17.039M |\n",
            "|    layer3.7.bn3                |    2.048K              |    0.333M  |\n",
            "|   layer3.8                     |   1.117M               |   72.916M  |\n",
            "|    layer3.8.conv1              |    0.262M              |    17.039M |\n",
            "|    layer3.8.bn1                |    0.512K              |    83.2K   |\n",
            "|    layer3.8.conv2              |    0.59M               |    38.339M |\n",
            "|    layer3.8.bn2                |    0.512K              |    83.2K   |\n",
            "|    layer3.8.conv3              |    0.262M              |    17.039M |\n",
            "|    layer3.8.bn3                |    2.048K              |    0.333M  |\n",
            "|   layer3.9                     |   1.117M               |   72.916M  |\n",
            "|    layer3.9.conv1              |    0.262M              |    17.039M |\n",
            "|    layer3.9.bn1                |    0.512K              |    83.2K   |\n",
            "|    layer3.9.conv2              |    0.59M               |    38.339M |\n",
            "|    layer3.9.bn2                |    0.512K              |    83.2K   |\n",
            "|    layer3.9.conv3              |    0.262M              |    17.039M |\n",
            "|    layer3.9.bn3                |    2.048K              |    0.333M  |\n",
            "|   layer3.10                    |   1.117M               |   72.916M  |\n",
            "|    layer3.10.conv1             |    0.262M              |    17.039M |\n",
            "|    layer3.10.bn1               |    0.512K              |    83.2K   |\n",
            "|    layer3.10.conv2             |    0.59M               |    38.339M |\n",
            "|    layer3.10.bn2               |    0.512K              |    83.2K   |\n",
            "|    layer3.10.conv3             |    0.262M              |    17.039M |\n",
            "|    layer3.10.bn3               |    2.048K              |    0.333M  |\n",
            "|   layer3.11                    |   1.117M               |   72.916M  |\n",
            "|    layer3.11.conv1             |    0.262M              |    17.039M |\n",
            "|    layer3.11.bn1               |    0.512K              |    83.2K   |\n",
            "|    layer3.11.conv2             |    0.59M               |    38.339M |\n",
            "|    layer3.11.bn2               |    0.512K              |    83.2K   |\n",
            "|    layer3.11.conv3             |    0.262M              |    17.039M |\n",
            "|    layer3.11.bn3               |    2.048K              |    0.333M  |\n",
            "|   layer3.12                    |   1.117M               |   72.916M  |\n",
            "|    layer3.12.conv1             |    0.262M              |    17.039M |\n",
            "|    layer3.12.bn1               |    0.512K              |    83.2K   |\n",
            "|    layer3.12.conv2             |    0.59M               |    38.339M |\n",
            "|    layer3.12.bn2               |    0.512K              |    83.2K   |\n",
            "|    layer3.12.conv3             |    0.262M              |    17.039M |\n",
            "|    layer3.12.bn3               |    2.048K              |    0.333M  |\n",
            "|   layer3.13                    |   1.117M               |   72.916M  |\n",
            "|    layer3.13.conv1             |    0.262M              |    17.039M |\n",
            "|    layer3.13.bn1               |    0.512K              |    83.2K   |\n",
            "|    layer3.13.conv2             |    0.59M               |    38.339M |\n",
            "|    layer3.13.bn2               |    0.512K              |    83.2K   |\n",
            "|    layer3.13.conv3             |    0.262M              |    17.039M |\n",
            "|    layer3.13.bn3               |    2.048K              |    0.333M  |\n",
            "|   layer3.14                    |   1.117M               |   72.916M  |\n",
            "|    layer3.14.conv1             |    0.262M              |    17.039M |\n",
            "|    layer3.14.bn1               |    0.512K              |    83.2K   |\n",
            "|    layer3.14.conv2             |    0.59M               |    38.339M |\n",
            "|    layer3.14.bn2               |    0.512K              |    83.2K   |\n",
            "|    layer3.14.conv3             |    0.262M              |    17.039M |\n",
            "|    layer3.14.bn3               |    2.048K              |    0.333M  |\n",
            "|   layer3.15                    |   1.117M               |   72.916M  |\n",
            "|    layer3.15.conv1             |    0.262M              |    17.039M |\n",
            "|    layer3.15.bn1               |    0.512K              |    83.2K   |\n",
            "|    layer3.15.conv2             |    0.59M               |    38.339M |\n",
            "|    layer3.15.bn2               |    0.512K              |    83.2K   |\n",
            "|    layer3.15.conv3             |    0.262M              |    17.039M |\n",
            "|    layer3.15.bn3               |    2.048K              |    0.333M  |\n",
            "|   layer3.16                    |   1.117M               |   72.916M  |\n",
            "|    layer3.16.conv1             |    0.262M              |    17.039M |\n",
            "|    layer3.16.bn1               |    0.512K              |    83.2K   |\n",
            "|    layer3.16.conv2             |    0.59M               |    38.339M |\n",
            "|    layer3.16.bn2               |    0.512K              |    83.2K   |\n",
            "|    layer3.16.conv3             |    0.262M              |    17.039M |\n",
            "|    layer3.16.bn3               |    2.048K              |    0.333M  |\n",
            "|   layer3.17                    |   1.117M               |   72.916M  |\n",
            "|    layer3.17.conv1             |    0.262M              |    17.039M |\n",
            "|    layer3.17.bn1               |    0.512K              |    83.2K   |\n",
            "|    layer3.17.conv2             |    0.59M               |    38.339M |\n",
            "|    layer3.17.bn2               |    0.512K              |    83.2K   |\n",
            "|    layer3.17.conv3             |    0.262M              |    17.039M |\n",
            "|    layer3.17.bn3               |    2.048K              |    0.333M  |\n",
            "|   layer3.18                    |   1.117M               |   72.916M  |\n",
            "|    layer3.18.conv1             |    0.262M              |    17.039M |\n",
            "|    layer3.18.bn1               |    0.512K              |    83.2K   |\n",
            "|    layer3.18.conv2             |    0.59M               |    38.339M |\n",
            "|    layer3.18.bn2               |    0.512K              |    83.2K   |\n",
            "|    layer3.18.conv3             |    0.262M              |    17.039M |\n",
            "|    layer3.18.bn3               |    2.048K              |    0.333M  |\n",
            "|   layer3.19                    |   1.117M               |   72.916M  |\n",
            "|    layer3.19.conv1             |    0.262M              |    17.039M |\n",
            "|    layer3.19.bn1               |    0.512K              |    83.2K   |\n",
            "|    layer3.19.conv2             |    0.59M               |    38.339M |\n",
            "|    layer3.19.bn2               |    0.512K              |    83.2K   |\n",
            "|    layer3.19.conv3             |    0.262M              |    17.039M |\n",
            "|    layer3.19.bn3               |    2.048K              |    0.333M  |\n",
            "|   layer3.20                    |   1.117M               |   72.916M  |\n",
            "|    layer3.20.conv1             |    0.262M              |    17.039M |\n",
            "|    layer3.20.bn1               |    0.512K              |    83.2K   |\n",
            "|    layer3.20.conv2             |    0.59M               |    38.339M |\n",
            "|    layer3.20.bn2               |    0.512K              |    83.2K   |\n",
            "|    layer3.20.conv3             |    0.262M              |    17.039M |\n",
            "|    layer3.20.bn3               |    2.048K              |    0.333M  |\n",
            "|   layer3.21                    |   1.117M               |   72.916M  |\n",
            "|    layer3.21.conv1             |    0.262M              |    17.039M |\n",
            "|    layer3.21.bn1               |    0.512K              |    83.2K   |\n",
            "|    layer3.21.conv2             |    0.59M               |    38.339M |\n",
            "|    layer3.21.bn2               |    0.512K              |    83.2K   |\n",
            "|    layer3.21.conv3             |    0.262M              |    17.039M |\n",
            "|    layer3.21.bn3               |    2.048K              |    0.333M  |\n",
            "|   layer3.22                    |   1.117M               |   72.916M  |\n",
            "|    layer3.22.conv1             |    0.262M              |    17.039M |\n",
            "|    layer3.22.bn1               |    0.512K              |    83.2K   |\n",
            "|    layer3.22.conv2             |    0.59M               |    38.339M |\n",
            "|    layer3.22.bn2               |    0.512K              |    83.2K   |\n",
            "|    layer3.22.conv3             |    0.262M              |    17.039M |\n",
            "|    layer3.22.bn3               |    2.048K              |    0.333M  |\n",
            "|  layer4                        |  14.965M               |  0.975G    |\n",
            "|   layer4.0                     |   6.04M                |   0.394G   |\n",
            "|    layer4.0.conv1              |    0.524M              |    34.079M |\n",
            "|    layer4.0.bn1                |    1.024K              |    0.166M  |\n",
            "|    layer4.0.conv2              |    2.359M              |    0.153G  |\n",
            "|    layer4.0.bn2                |    1.024K              |    0.166M  |\n",
            "|    layer4.0.conv3              |    1.049M              |    68.157M |\n",
            "|    layer4.0.bn3                |    4.096K              |    0.666M  |\n",
            "|    layer4.0.downsample         |    2.101M              |    0.137G  |\n",
            "|   layer4.1                     |   4.463M               |   0.291G   |\n",
            "|    layer4.1.conv1              |    1.049M              |    68.157M |\n",
            "|    layer4.1.bn1                |    1.024K              |    0.166M  |\n",
            "|    layer4.1.conv2              |    2.359M              |    0.153G  |\n",
            "|    layer4.1.bn2                |    1.024K              |    0.166M  |\n",
            "|    layer4.1.conv3              |    1.049M              |    68.157M |\n",
            "|    layer4.1.bn3                |    4.096K              |    0.666M  |\n",
            "|   layer4.2                     |   4.463M               |   0.291G   |\n",
            "|    layer4.2.conv1              |    1.049M              |    68.157M |\n",
            "|    layer4.2.bn1                |    1.024K              |    0.166M  |\n",
            "|    layer4.2.conv2              |    2.359M              |    0.153G  |\n",
            "|    layer4.2.bn2                |    1.024K              |    0.166M  |\n",
            "|    layer4.2.conv3              |    1.049M              |    68.157M |\n",
            "|    layer4.2.bn3                |    4.096K              |    0.666M  |\n",
            "|  layer6.conv2d_list            |  1.401M                |  91.054M   |\n",
            "|   layer6.conv2d_list.0         |   0.35M                |   22.764M  |\n",
            "|    layer6.conv2d_list.0.weight |    (19, 2048, 3, 3)    |            |\n",
            "|    layer6.conv2d_list.0.bias   |    (19,)               |            |\n",
            "|   layer6.conv2d_list.1         |   0.35M                |   22.764M  |\n",
            "|    layer6.conv2d_list.1.weight |    (19, 2048, 3, 3)    |            |\n",
            "|    layer6.conv2d_list.1.bias   |    (19,)               |            |\n",
            "|   layer6.conv2d_list.2         |   0.35M                |   22.764M  |\n",
            "|    layer6.conv2d_list.2.weight |    (19, 2048, 3, 3)    |            |\n",
            "|    layer6.conv2d_list.2.bias   |    (19,)               |            |\n",
            "|   layer6.conv2d_list.3         |   0.35M                |   22.764M  |\n",
            "|    layer6.conv2d_list.3.weight |    (19, 2048, 3, 3)    |            |\n",
            "|    layer6.conv2d_list.3.bias   |    (19,)               |            |\n"
          ]
        }
      ]
    },
    {
      "cell_type": "markdown",
      "source": [
        "Latency and FPS"
      ],
      "metadata": {
        "id": "xsFTGael3Brh"
      }
    },
    {
      "cell_type": "code",
      "source": [
        "# latency and FPS\n",
        "import time\n",
        "\n",
        "height = train_dataset[0][0].shape[0]\n",
        "width = train_dataset[0][0].shape[1]\n",
        "image = np.random.randint(0,256,(height, width, 3)) / 255.\n",
        "image = transform(image)\n",
        "image = torch.unsqueeze(image, dim=0).float().cuda()\n",
        "\n",
        "iterations = 1000\n",
        "latency = np.zeros(iterations)\n",
        "fps = np.zeros(iterations)\n",
        "for i in range(iterations):\n",
        "  start = time.time()\n",
        "  output = model(image)\n",
        "  end = time.time()\n",
        "  time_diff_seconds = end - start\n",
        "  latency[i] = time_diff_seconds\n",
        "  fps[i] = 1/time_diff_seconds\n",
        "\n",
        "meanLatency = np.mean(latency)*1000\n",
        "stdLatency = np.std(latency)*1000\n",
        "meanFPS = np.mean(fps)\n",
        "stdFPS = np.std(fps)\n",
        "\n",
        "print(f\"Mean Latency: {meanLatency} ms\")\n",
        "print(f\"Std Latency: {stdLatency} ms\")\n",
        "print(f\"Mean FPS: {meanFPS}\")\n",
        "print(f\"Std FPS: {stdFPS}\")"
      ],
      "metadata": {
        "colab": {
          "base_uri": "https://localhost:8080/"
        },
        "id": "bk1qMMly3Awu",
        "outputId": "0cf8c714-341d-46bb-f4a4-5a62a60e95ec"
      },
      "execution_count": 21,
      "outputs": [
        {
          "output_type": "stream",
          "name": "stdout",
          "text": [
            "Mean Latency: 21.275926113128662 ms\n",
            "Std Latency: 4.535507116131966 ms\n",
            "Mean FPS: 48.69826474419814\n",
            "Std FPS: 8.13876782093308\n"
          ]
        }
      ]
    },
    {
      "cell_type": "markdown",
      "source": [
        "Number of parameters"
      ],
      "metadata": {
        "id": "c1nGEOVEc1Zo"
      }
    },
    {
      "cell_type": "code",
      "source": [
        "total_params = sum(p.numel() for p in model.parameters())\n",
        "print(f'Total number of parameters: {total_params}')"
      ],
      "metadata": {
        "id": "Rd7VV9EB-TI7",
        "colab": {
          "base_uri": "https://localhost:8080/"
        },
        "outputId": "07b958e7-60ba-4d7b-b333-f10431f71c14"
      },
      "execution_count": 22,
      "outputs": [
        {
          "output_type": "stream",
          "name": "stdout",
          "text": [
            "Total number of parameters: 43901068\n"
          ]
        }
      ]
    },
    {
      "cell_type": "code",
      "source": [],
      "metadata": {
        "id": "7QncgM6rc0LF"
      },
      "execution_count": null,
      "outputs": []
    }
  ],
  "metadata": {
    "kernelspec": {
      "display_name": "Python 3",
      "name": "python3"
    },
    "language_info": {
      "codemirror_mode": {
        "name": "ipython",
        "version": 3
      },
      "file_extension": ".py",
      "mimetype": "text/x-python",
      "name": "python",
      "nbconvert_exporter": "python",
      "pygments_lexer": "ipython3",
      "version": "3.11.5"
    },
    "colab": {
      "provenance": [],
      "machine_shape": "hm",
      "gpuType": "T4"
    },
    "accelerator": "GPU"
  },
  "nbformat": 4,
  "nbformat_minor": 0
}